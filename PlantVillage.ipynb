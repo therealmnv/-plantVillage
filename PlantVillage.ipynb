{
 "cells": [
  {
   "cell_type": "code",
   "execution_count": 4,
   "metadata": {},
   "outputs": [],
   "source": [
    "import tensorflow as tf\n",
    "from  keras.preprocessing.image import ImageDataGenerator\n",
    "from keras.layers import Dropout\n",
    "from keras.models import load_model"
   ]
  },
  {
   "cell_type": "code",
   "execution_count": 5,
   "metadata": {},
   "outputs": [],
   "source": [
    "#input_folder = \"PlantVillage\"\n",
    "#output = \"Split\"\n",
    "#splitfolders.ratio(input_folder, output=output, seed=42, ratio=(.75, .25)) "
   ]
  },
  {
   "cell_type": "code",
   "execution_count": 6,
   "metadata": {},
   "outputs": [
    {
     "name": "stdout",
     "output_type": "stream",
     "text": [
      "Found 11995 images belonging to 10 classes.\n"
     ]
    }
   ],
   "source": [
    "train_datagen = ImageDataGenerator(\n",
    "        rescale=1./255, #feature scaling\n",
    "        shear_range=0.2,\n",
    "        zoom_range=0.2,\n",
    "        horizontal_flip=True)\n",
    "\n",
    "training_set = train_datagen.flow_from_directory(\n",
    "        'Split/train', #path in our root folder\n",
    "        target_size=(64, 64), #higher is computationally expensive\n",
    "        batch_size=32,\n",
    "        class_mode='categorical') "
   ]
  },
  {
   "cell_type": "code",
   "execution_count": 7,
   "metadata": {},
   "outputs": [
    {
     "name": "stdout",
     "output_type": "stream",
     "text": [
      "Found 4006 images belonging to 10 classes.\n"
     ]
    }
   ],
   "source": [
    "test_datagen = ImageDataGenerator(rescale=1./255) #scaling\n",
    "#no other transformations because we might get bad pictures to be predicted\n",
    "\n",
    "test_set = test_datagen.flow_from_directory(\n",
    "        'Split/val',\n",
    "        target_size=(64, 64), #has to be same as training set\n",
    "        batch_size=32,\n",
    "        class_mode='categorical')"
   ]
  },
  {
   "cell_type": "code",
   "execution_count": 8,
   "metadata": {},
   "outputs": [
    {
     "data": {
      "text/plain": [
       "\"cnn = tf.keras.models.Sequential()\\ncnn.add(tf.keras.layers.Conv2D(filters=32, kernel_size=3, activation='relu', input_shape=[64,64,3]))\\ncnn.add(tf.keras.layers.Conv2D(filters=32, kernel_size=3, activation='relu'))\\ncnn.add(tf.keras.layers.BatchNormalization())\\ncnn.add(tf.keras.layers.MaxPool2D(pool_size = 2, strides = 2))\\ncnn.add(Dropout(0.3))\\ncnn.add(tf.keras.layers.Conv2D(filters=64 , kernel_size = 3, activation = 'relu'))\\ncnn.add(tf.keras.layers.Conv2D(filters=64 , kernel_size = 3, activation = 'relu'))\\ncnn.add(tf.keras.layers.BatchNormalization())\\ncnn.add(tf.keras.layers.MaxPool2D(pool_size = 2, strides = 2))\\ncnn.add(Dropout(0.2))\\n\\ncnn.add(tf.keras.layers.Flatten())\\n\\ncnn.add(tf.keras.layers.Dense(units = 512, activation = 'relu'))\\ncnn.add(tf.keras.layers.Dense(units = 128, activation = 'relu'))\\ncnn.add(Dropout(0.2))\""
      ]
     },
     "execution_count": 8,
     "metadata": {},
     "output_type": "execute_result"
    }
   ],
   "source": [
    "\"\"\"cnn = tf.keras.models.Sequential()\n",
    "cnn.add(tf.keras.layers.Conv2D(filters=32, kernel_size=3, activation='relu', input_shape=[64,64,3]))\n",
    "cnn.add(tf.keras.layers.Conv2D(filters=32, kernel_size=3, activation='relu'))\n",
    "cnn.add(tf.keras.layers.BatchNormalization())\n",
    "cnn.add(tf.keras.layers.MaxPool2D(pool_size = 2, strides = 2))\n",
    "cnn.add(Dropout(0.3))\n",
    "cnn.add(tf.keras.layers.Conv2D(filters=64 , kernel_size = 3, activation = 'relu'))\n",
    "cnn.add(tf.keras.layers.Conv2D(filters=64 , kernel_size = 3, activation = 'relu'))\n",
    "cnn.add(tf.keras.layers.BatchNormalization())\n",
    "cnn.add(tf.keras.layers.MaxPool2D(pool_size = 2, strides = 2))\n",
    "cnn.add(Dropout(0.2))\n",
    "\n",
    "cnn.add(tf.keras.layers.Flatten())\n",
    "\n",
    "cnn.add(tf.keras.layers.Dense(units = 512, activation = 'relu'))\n",
    "cnn.add(tf.keras.layers.Dense(units = 128, activation = 'relu'))\n",
    "cnn.add(Dropout(0.2))\"\"\""
   ]
  },
  {
   "cell_type": "code",
   "execution_count": 9,
   "metadata": {},
   "outputs": [],
   "source": [
    "cnn = tf.keras.models.Sequential()\n",
    "cnn.add(tf.keras.layers.Conv2D(filters=32, kernel_size=3, activation='relu', input_shape=[64,64,3]))\n",
    "cnn.add(tf.keras.layers.MaxPool2D(pool_size = 2, strides = 2))\n",
    "cnn.add(Dropout(0.3))\n",
    "#second convolution layer\n",
    "cnn.add(tf.keras.layers.Conv2D(filters=32 , kernel_size = 3, activation = 'relu'))\n",
    "cnn.add(tf.keras.layers.MaxPool2D(pool_size = 2, strides = 2))\n",
    "cnn.add(Dropout(0.3))\n",
    "cnn.add(tf.keras.layers.Flatten())\n",
    "cnn.add(tf.keras.layers.Dense(units = 128, activation = 'relu'))\n",
    "cnn.add(Dropout(0.3))"
   ]
  },
  {
   "cell_type": "code",
   "execution_count": 10,
   "metadata": {},
   "outputs": [],
   "source": [
    "cnn.add(tf.keras.layers.Dense(units = 10, activation = 'softmax'))"
   ]
  },
  {
   "cell_type": "code",
   "execution_count": 11,
   "metadata": {},
   "outputs": [
    {
     "name": "stdout",
     "output_type": "stream",
     "text": [
      "Model: \"sequential\"\n",
      "_________________________________________________________________\n",
      "Layer (type)                 Output Shape              Param #   \n",
      "=================================================================\n",
      "conv2d (Conv2D)              (None, 62, 62, 32)        896       \n",
      "_________________________________________________________________\n",
      "max_pooling2d (MaxPooling2D) (None, 31, 31, 32)        0         \n",
      "_________________________________________________________________\n",
      "dropout (Dropout)            (None, 31, 31, 32)        0         \n",
      "_________________________________________________________________\n",
      "conv2d_1 (Conv2D)            (None, 29, 29, 32)        9248      \n",
      "_________________________________________________________________\n",
      "max_pooling2d_1 (MaxPooling2 (None, 14, 14, 32)        0         \n",
      "_________________________________________________________________\n",
      "dropout_1 (Dropout)          (None, 14, 14, 32)        0         \n",
      "_________________________________________________________________\n",
      "flatten (Flatten)            (None, 6272)              0         \n",
      "_________________________________________________________________\n",
      "dense (Dense)                (None, 128)               802944    \n",
      "_________________________________________________________________\n",
      "dropout_2 (Dropout)          (None, 128)               0         \n",
      "_________________________________________________________________\n",
      "dense_1 (Dense)              (None, 10)                1290      \n",
      "=================================================================\n",
      "Total params: 814,378\n",
      "Trainable params: 814,378\n",
      "Non-trainable params: 0\n",
      "_________________________________________________________________\n"
     ]
    }
   ],
   "source": [
    "cnn.summary()"
   ]
  },
  {
   "cell_type": "code",
   "execution_count": 12,
   "metadata": {},
   "outputs": [],
   "source": [
    "#compiling the cnn\n",
    "cnn.compile(optimizer = 'adam', loss = 'categorical_crossentropy', metrics = ['accuracy'])"
   ]
  },
  {
   "cell_type": "code",
   "execution_count": 13,
   "metadata": {},
   "outputs": [
    {
     "name": "stdout",
     "output_type": "stream",
     "text": [
      "Epoch 1/25\n",
      "  1/375 [..............................] - ETA: 0s - loss: 2.2711 - accuracy: 0.0938WARNING:tensorflow:Callbacks method `on_train_batch_end` is slow compared to the batch time (batch time: 0.0180s vs `on_train_batch_end` time: 0.0280s). Check your callbacks.\n",
      "375/375 [==============================] - 45s 120ms/step - loss: 1.5484 - accuracy: 0.4564 - val_loss: 0.9758 - val_accuracy: 0.6458\n",
      "Epoch 2/25\n",
      "375/375 [==============================] - 50s 133ms/step - loss: 0.9059 - accuracy: 0.6883 - val_loss: 0.9513 - val_accuracy: 0.6550\n",
      "Epoch 3/25\n",
      "375/375 [==============================] - 45s 121ms/step - loss: 0.7288 - accuracy: 0.7490 - val_loss: 0.6156 - val_accuracy: 0.7846\n",
      "Epoch 4/25\n",
      "375/375 [==============================] - 47s 125ms/step - loss: 0.6431 - accuracy: 0.7809 - val_loss: 0.6795 - val_accuracy: 0.7716\n",
      "Epoch 5/25\n",
      "375/375 [==============================] - 45s 119ms/step - loss: 0.5716 - accuracy: 0.8023 - val_loss: 0.6445 - val_accuracy: 0.7923\n",
      "Epoch 6/25\n",
      "375/375 [==============================] - 46s 124ms/step - loss: 0.5455 - accuracy: 0.8138 - val_loss: 0.7474 - val_accuracy: 0.7501\n",
      "Epoch 7/25\n",
      "375/375 [==============================] - 48s 129ms/step - loss: 0.5013 - accuracy: 0.8250 - val_loss: 0.6449 - val_accuracy: 0.7886\n",
      "Epoch 8/25\n",
      "375/375 [==============================] - 51s 135ms/step - loss: 0.4874 - accuracy: 0.8274 - val_loss: 0.4746 - val_accuracy: 0.8390\n",
      "Epoch 9/25\n",
      "375/375 [==============================] - 58s 154ms/step - loss: 0.4584 - accuracy: 0.8405 - val_loss: 0.4127 - val_accuracy: 0.8552\n",
      "Epoch 10/25\n",
      "375/375 [==============================] - 48s 129ms/step - loss: 0.4560 - accuracy: 0.8438 - val_loss: 0.4720 - val_accuracy: 0.8445\n",
      "Epoch 11/25\n",
      "375/375 [==============================] - 45s 119ms/step - loss: 0.4399 - accuracy: 0.8470 - val_loss: 0.3827 - val_accuracy: 0.8717\n",
      "Epoch 12/25\n",
      "375/375 [==============================] - 46s 123ms/step - loss: 0.4098 - accuracy: 0.8514 - val_loss: 0.4449 - val_accuracy: 0.8577\n",
      "Epoch 13/25\n",
      "375/375 [==============================] - 55s 146ms/step - loss: 0.4022 - accuracy: 0.8590 - val_loss: 0.5222 - val_accuracy: 0.8323\n",
      "Epoch 14/25\n",
      "375/375 [==============================] - 46s 123ms/step - loss: 0.3964 - accuracy: 0.8603 - val_loss: 0.3678 - val_accuracy: 0.8747\n",
      "Epoch 15/25\n",
      "375/375 [==============================] - 45s 121ms/step - loss: 0.3848 - accuracy: 0.8637 - val_loss: 0.4272 - val_accuracy: 0.8570\n",
      "Epoch 16/25\n",
      "375/375 [==============================] - 46s 122ms/step - loss: 0.3841 - accuracy: 0.8669 - val_loss: 0.3027 - val_accuracy: 0.8957\n",
      "Epoch 17/25\n",
      "375/375 [==============================] - 45s 121ms/step - loss: 0.3658 - accuracy: 0.8725 - val_loss: 0.3098 - val_accuracy: 0.8964\n",
      "Epoch 18/25\n",
      "375/375 [==============================] - 45s 121ms/step - loss: 0.3549 - accuracy: 0.8762 - val_loss: 0.4117 - val_accuracy: 0.8684\n",
      "Epoch 19/25\n",
      "375/375 [==============================] - 46s 123ms/step - loss: 0.3592 - accuracy: 0.8743 - val_loss: 0.7030 - val_accuracy: 0.8020\n",
      "Epoch 20/25\n",
      "375/375 [==============================] - 48s 127ms/step - loss: 0.3317 - accuracy: 0.8833 - val_loss: 0.2812 - val_accuracy: 0.9099\n",
      "Epoch 21/25\n",
      "375/375 [==============================] - 45s 121ms/step - loss: 0.3306 - accuracy: 0.8819 - val_loss: 0.3748 - val_accuracy: 0.8807\n",
      "Epoch 22/25\n",
      "375/375 [==============================] - 45s 120ms/step - loss: 0.3239 - accuracy: 0.8866 - val_loss: 0.3898 - val_accuracy: 0.8727\n",
      "Epoch 23/25\n",
      "375/375 [==============================] - 45s 120ms/step - loss: 0.3198 - accuracy: 0.8864 - val_loss: 0.3673 - val_accuracy: 0.8764\n",
      "Epoch 24/25\n",
      "375/375 [==============================] - 45s 120ms/step - loss: 0.2945 - accuracy: 0.8962 - val_loss: 0.3399 - val_accuracy: 0.8847\n",
      "Epoch 25/25\n",
      "375/375 [==============================] - 45s 121ms/step - loss: 0.3087 - accuracy: 0.8905 - val_loss: 0.2793 - val_accuracy: 0.9069\n"
     ]
    },
    {
     "data": {
      "text/plain": [
       "<tensorflow.python.keras.callbacks.History at 0x1bb347c2cc8>"
      ]
     },
     "execution_count": 13,
     "metadata": {},
     "output_type": "execute_result"
    }
   ],
   "source": [
    "from keras.callbacks import History\n",
    "hist = History()\n",
    "cnn.fit(x = training_set, validation_data = test_set, epochs = 25, callbacks=[hist]) # callbacks=[history] for graphs"
   ]
  },
  {
   "cell_type": "code",
   "execution_count": 14,
   "metadata": {},
   "outputs": [
    {
     "name": "stdout",
     "output_type": "stream",
     "text": [
      "dict_keys(['loss', 'accuracy', 'val_loss', 'val_accuracy'])\n"
     ]
    }
   ],
   "source": [
    "print(hist.history.keys())"
   ]
  },
  {
   "cell_type": "code",
   "execution_count": 15,
   "metadata": {},
   "outputs": [
    {
     "data": {
      "image/png": "[encoded data removed]",
      "text/plain": [
       "<Figure size 432x288 with 1 Axes>"
      ]
     },
     "metadata": {
      "needs_background": "light"
     },
     "output_type": "display_data"
    }
   ],
   "source": [
    "import matplotlib.pyplot as plt\n",
    "#using hist for accuracy\n",
    "plt.plot(hist.history['accuracy'])\n",
    "plt.plot(hist.history['val_accuracy'])\n",
    "plt.title('Accuracy vs Epochs')\n",
    "plt.xlabel('Epochs')\n",
    "plt.ylabel('Accuracy')\n",
    "plt.legend(['train', 'test'])\n",
    "plt.show()"
   ]
  },
  {
   "cell_type": "code",
   "execution_count": 16,
   "metadata": {},
   "outputs": [
    {
     "data": {
      "image/png": "[encoded data removed]",
      "text/plain": [
       "<Figure size 432x288 with 1 Axes>"
      ]
     },
     "metadata": {
      "needs_background": "light"
     },
     "output_type": "display_data"
    }
   ],
   "source": [
    "plt.plot(hist.history['loss'])\n",
    "plt.plot(hist.history['val_loss'])\n",
    "plt.title('Loss vs Epochs')\n",
    "plt.xlabel('Epochs')\n",
    "plt.ylabel('Loss')\n",
    "plt.legend(['train', 'test'])\n",
    "plt.show()"
   ]
  },
  {
   "cell_type": "code",
   "execution_count": 21,
   "metadata": {},
   "outputs": [
    {
     "name": "stdout",
     "output_type": "stream",
     "text": [
      "[[0. 0. 0. 0. 1. 0. 0. 0. 0. 0.]]\n",
      "early blight\n"
     ]
    }
   ],
   "source": [
    "import numpy as np\n",
    "from keras.preprocessing import image\n",
    "test_image = image.load_img('Split/indi_test/Tomato_Early_blight.JPG', target_size = (64, 64))\n",
    "test_image = image.img_to_array(test_image)\n",
    "test_image = np.expand_dims(test_image, axis = 0)\n",
    "result = cnn.predict(test_image)\n",
    "print(result)\n",
    "training_set.class_indices\n",
    "\n",
    "if result[0][0] == 1:\n",
    "  prediction = 'target spot'\n",
    "elif result[0][1] == 1:\n",
    "  prediction = 'mosaic'\n",
    "elif result[0][2] == 1:\n",
    "  prediction = 'curl virus'\n",
    "elif result[0][3] == 1:\n",
    "  prediction = 'bacterial spot'\n",
    "elif result[0][4] == 1:\n",
    "  prediction = 'early blight'\n",
    "elif result[0][5] == 1:\n",
    "  prediction = 'healthy'\n",
    "elif result[0][6] == 1:\n",
    "  prediction = 'late blight'\n",
    "elif result[0][7] == 1:\n",
    "  prediction = 'leaf mold'\n",
    "elif result[0][8] == 1:\n",
    "  prediction = 'septoria leaf spot'\n",
    "elif result[0][9] == 1:\n",
    "  prediction = 'spider mites'\n",
    "\n",
    "print(prediction)"
   ]
  },
  {
   "cell_type": "code",
   "execution_count": 18,
   "metadata": {},
   "outputs": [],
   "source": [
    "\"\"\"cnn.save_weights('final.h5')\n",
    "cnn.save('Multiclass_classification.h5')\"\"\"\n",
    "#to load\n",
    "#cnn = load_model('Multiclass_classification.h5')\n",
    "#cnn.load_weights('final.h5')"
   ]
  }
 ],
 "metadata": {
  "kernelspec": {
   "display_name": "Python 3",
   "language": "python",
   "name": "python3"
  },
  "language_info": {
   "codemirror_mode": {
    "name": "ipython",
    "version": 3
   },
   "file_extension": ".py",
   "mimetype": "text/x-python",
   "name": "python",
   "nbconvert_exporter": "python",
   "pygments_lexer": "ipython3",
   "version": "3.7.6"
  }
 },
 "nbformat": 4,
 "nbformat_minor": 4
}
